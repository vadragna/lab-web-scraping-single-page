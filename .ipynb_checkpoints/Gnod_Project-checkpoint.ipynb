{
 "cells": [
  {
   "cell_type": "code",
   "execution_count": 1,
   "id": "591c4c01-afdd-4581-9f0d-e50306c26604",
   "metadata": {},
   "outputs": [],
   "source": [
    "import requests"
   ]
  },
  {
   "cell_type": "code",
   "execution_count": 2,
   "id": "8f97c366-64ba-4d71-a538-b169041b2820",
   "metadata": {},
   "outputs": [],
   "source": [
    "# !pip install bs4"
   ]
  },
  {
   "cell_type": "code",
   "execution_count": 3,
   "id": "b5014184-2465-4691-9b01-319125e976d4",
   "metadata": {},
   "outputs": [],
   "source": [
    "from bs4 import BeautifulSoup\n",
    "import pandas as pd\n",
    "import re"
   ]
  },
  {
   "cell_type": "code",
   "execution_count": 4,
   "id": "18cd44b7-4f39-4cdd-93a9-aa0191f53351",
   "metadata": {},
   "outputs": [],
   "source": [
    "url = 'http://www.popvortex.com/music/charts/top-100-songs.php'\n",
    "page = requests.get(url)"
   ]
  },
  {
   "cell_type": "code",
   "execution_count": 5,
   "id": "d9825a4b-06a6-4aa3-a68f-dc19a2f0c5d3",
   "metadata": {},
   "outputs": [],
   "source": [
    "soup = BeautifulSoup(page.content, 'html.parser')"
   ]
  },
  {
   "cell_type": "code",
   "execution_count": 6,
   "id": "5a76fbc4-32ab-4442-9b49-ed5da2e29036",
   "metadata": {},
   "outputs": [],
   "source": [
    "# print(soup.prettify())"
   ]
  },
  {
   "cell_type": "code",
   "execution_count": 7,
   "id": "e23f175b-4e91-4e6e-baf5-002c224dcfc3",
   "metadata": {},
   "outputs": [],
   "source": [
    "artists = []\n",
    "titles = []\n",
    "\n",
    "for title_artist_div in soup.select(\".title-artist\"):\n",
    "    title = title_artist_div.find(class_=\"title\")\n",
    "    artist = title_artist_div.find(class_=\"artist\")\n",
    "    titles.append(title.get_text())\n",
    "    artists.append(artist.get_text())"
   ]
  },
  {
   "cell_type": "code",
   "execution_count": 8,
   "id": "3c3d7fa8-b2d2-4734-b8ef-2ab4885a2e7e",
   "metadata": {},
   "outputs": [
    {
     "name": "stdout",
     "output_type": "stream",
     "text": [
      "['Jimmy Buffett', 'Jimmy Buffett', 'Oliver Anthony Music', 'Smash Mouth', 'Jimmy Buffett', 'Jimmy Buffett', 'Zach Bryan', 'Doja Cat', 'Jimmy Buffett', 'Jimmy Buffett', 'Gary Wright', 'Luke Combs', 'Paul Russell', 'Nicki Minaj', 'Jimmy Buffett', 'Miley Cyrus', 'Taylor Swift', 'Smash Mouth', 'Morgan Wallen', 'Jelly Roll', 'Oliver Anthony Music', 'Smash Mouth', 'Jason Aldean', 'Jimmy Buffett', 'Dua Lipa', 'Chris Stapleton', 'Smash Mouth', 'Smash Mouth', 'Gary Wright', 'Lainey Wilson', 'Oliver Anthony Music', 'Morgan Wallen', 'Jimmy Buffett', 'Jelly Roll', 'Smash Mouth', 'Alan Jackson', 'Oliver Anthony Music', 'Nickelback', 'Miley Cyrus', 'Jimmy Buffett', 'Bailey Zimmerman', 'Jimmy Buffett', 'Miley Cyrus', 'Jimmy Buffett', 'Fleetwood Mac', 'Olivia Rodrigo', 'Wayland', 'Rema & Selena Gomez', 'Teddy Swims', 'Timbaland, Nelly Furtado & Justin Timberlake', 'Billie Eilish', 'Radiant Melodies', 'Trump Latinos', 'Jimmy Buffett & Martina McBride', 'Crosby, Stills & Nash', 'Shinedown', 'Creedence Clearwater Revival', 'Will Dempsey', 'Nickelback', 'Smash Mouth', 'Rod Stewart', 'Jelly Roll', 'Jimmy Buffett', 'Luke Combs', 'Nickelback', 'Selena Gomez', 'Tom MacDonald & Adam Calhoun', 'Zac Brown Band', 'Jimmy Buffett', 'Nickelback', 'HARDY', 'Jimmy Buffett', 'Vy Napi', 'Tyler Childers', 'Jimmy Buffett', 'Oliver Anthony Music', 'Kane Brown', 'Radiant Melodies', 'Taylor Swift', 'Metallica', 'Zach Bryan', 'Fall Out Boy', 'Chicago', 'Oliver Anthony Music', 'Pretenders', 'Chris Stapleton', 'Griff', 'Fleetwood Mac', 'David Kushner', 'Fleetwood Mac', 'Morgan Wallen', 'Nicki Minaj & Ice Spice', 'Smash Mouth', 'Chicago', 'Evanescence', 'Morgan Wallen', 'Noah Kahan & Post Malone', 'Olivia Rodrigo', 'Taylor Swift', 'Sia']\n"
     ]
    }
   ],
   "source": [
    "print(artists)"
   ]
  },
  {
   "cell_type": "code",
   "execution_count": 9,
   "id": "fef91a9f-4cf2-44ff-a2b2-85bf509fb2c2",
   "metadata": {},
   "outputs": [],
   "source": [
    "songs = pd.DataFrame({\"title\":titles,\n",
    "                       \"artist\":artists\n",
    "                      })"
   ]
  },
  {
   "cell_type": "code",
   "execution_count": 10,
   "id": "3abd3ded-990a-4cc8-8537-146aa8113735",
   "metadata": {},
   "outputs": [
    {
     "data": {
      "text/html": [
       "<div>\n",
       "<style scoped>\n",
       "    .dataframe tbody tr th:only-of-type {\n",
       "        vertical-align: middle;\n",
       "    }\n",
       "\n",
       "    .dataframe tbody tr th {\n",
       "        vertical-align: top;\n",
       "    }\n",
       "\n",
       "    .dataframe thead th {\n",
       "        text-align: right;\n",
       "    }\n",
       "</style>\n",
       "<table border=\"1\" class=\"dataframe\">\n",
       "  <thead>\n",
       "    <tr style=\"text-align: right;\">\n",
       "      <th></th>\n",
       "      <th>title</th>\n",
       "      <th>artist</th>\n",
       "    </tr>\n",
       "  </thead>\n",
       "  <tbody>\n",
       "    <tr>\n",
       "      <th>0</th>\n",
       "      <td>Margaritaville</td>\n",
       "      <td>Jimmy Buffett</td>\n",
       "    </tr>\n",
       "    <tr>\n",
       "      <th>1</th>\n",
       "      <td>Come Monday</td>\n",
       "      <td>Jimmy Buffett</td>\n",
       "    </tr>\n",
       "    <tr>\n",
       "      <th>2</th>\n",
       "      <td>Rich Men North of Richmond</td>\n",
       "      <td>Oliver Anthony Music</td>\n",
       "    </tr>\n",
       "    <tr>\n",
       "      <th>3</th>\n",
       "      <td>All Star</td>\n",
       "      <td>Smash Mouth</td>\n",
       "    </tr>\n",
       "    <tr>\n",
       "      <th>4</th>\n",
       "      <td>Cheeseburger In Paradise</td>\n",
       "      <td>Jimmy Buffett</td>\n",
       "    </tr>\n",
       "  </tbody>\n",
       "</table>\n",
       "</div>"
      ],
      "text/plain": [
       "                        title                artist\n",
       "0              Margaritaville         Jimmy Buffett\n",
       "1                 Come Monday         Jimmy Buffett\n",
       "2  Rich Men North of Richmond  Oliver Anthony Music\n",
       "3                    All Star           Smash Mouth\n",
       "4    Cheeseburger In Paradise         Jimmy Buffett"
      ]
     },
     "execution_count": 10,
     "metadata": {},
     "output_type": "execute_result"
    }
   ],
   "source": [
    "songs.head()"
   ]
  },
  {
   "cell_type": "code",
   "execution_count": 11,
   "id": "2d72f7d2-45a9-451e-b90e-3b9928e8c211",
   "metadata": {},
   "outputs": [
    {
     "data": {
      "text/plain": [
       "(100, 2)"
      ]
     },
     "execution_count": 11,
     "metadata": {},
     "output_type": "execute_result"
    }
   ],
   "source": [
    "songs.shape"
   ]
  },
  {
   "cell_type": "markdown",
   "id": "9ae4fedc-bc3d-45f5-8a10-920ef1f2b939",
   "metadata": {},
   "source": [
    "Afternoon Lab Lab | Web Scraping Multiple Pages - Part 1\n"
   ]
  },
  {
   "cell_type": "code",
   "execution_count": 13,
   "id": "d6bd0f81-85c1-4e0e-a97d-b320a1268ca7",
   "metadata": {},
   "outputs": [],
   "source": [
    "url2 = 'https://en.wikipedia.org/wiki/List_of_songs_recorded_by_Blink-182'\n",
    "page2 = requests.get(url2)"
   ]
  },
  {
   "cell_type": "code",
   "execution_count": 14,
   "id": "a2fb0baa-a48a-43c1-b098-20170dad1e2e",
   "metadata": {},
   "outputs": [],
   "source": [
    "soup2 = BeautifulSoup(page2.content, 'html.parser')"
   ]
  },
  {
   "cell_type": "code",
   "execution_count": 15,
   "id": "48ba2de8-27ea-45c7-b2e0-0c2d08d8fcfa",
   "metadata": {
    "scrolled": true,
    "tags": []
   },
   "outputs": [],
   "source": [
    "# soup2"
   ]
  },
  {
   "cell_type": "code",
   "execution_count": 16,
   "id": "bc966134-6491-4118-95b2-ef02c60320b7",
   "metadata": {
    "scrolled": true,
    "tags": []
   },
   "outputs": [],
   "source": [
    "blink_songs = []\n",
    "selected_elements_blink = soup2.select('table th[scope=\"row\"]')\n",
    "\n",
    "for song in selected_elements_blink:\n",
    "    blink_songs.append(song.get_text())\n",
    "    # print(song.get_text())"
   ]
  },
  {
   "cell_type": "code",
   "execution_count": 17,
   "id": "853defc1-5544-42d2-ac5a-903cdebcfe96",
   "metadata": {},
   "outputs": [],
   "source": [
    "pattern = r'\"(.*?)\"'\n",
    "\n",
    "blink_only_titles = []\n",
    "for item in blink_songs:\n",
    "    match = re.search(pattern, item)\n",
    "    if match:\n",
    "        blink_only_titles.append(match.group(1))\n"
   ]
  },
  {
   "cell_type": "code",
   "execution_count": 18,
   "id": "48da5612-dc24-45ae-ad88-00834c577fed",
   "metadata": {
    "scrolled": true,
    "tags": []
   },
   "outputs": [
    {
     "data": {
      "text/plain": [
       "['6/8',\n",
       " '13 Miles',\n",
       " '21 Days',\n",
       " 'A New Hope',\n",
       " \"Adam's Song\",\n",
       " 'After Midnight',\n",
       " 'Aliens Exist',\n",
       " 'All of This',\n",
       " 'All the Small Things',\n",
       " 'Alone',\n",
       " 'Always',\n",
       " 'Another Girl, Another Planet',\n",
       " 'Anthem',\n",
       " 'Anthem Part Two',\n",
       " 'Apple Shampoo',\n",
       " 'Asthenia',\n",
       " 'Ben Wah Balls',\n",
       " 'Better Days',\n",
       " 'Black Rain',\n",
       " 'Blame It on My Youth',\n",
       " 'Blow Job',\n",
       " 'Boring',\n",
       " 'Bored to Death',\n",
       " 'Bored to Death (Acoustic)',\n",
       " 'Bottom of the Ocean',\n",
       " 'Boxing Day',\n",
       " 'Brohemian Rhapsody',\n",
       " 'Built This Pool',\n",
       " 'Cacophony',\n",
       " 'California',\n",
       " \"Can't Get You More Pregnant\",\n",
       " 'Carousel',\n",
       " 'The Country Song',\n",
       " 'Cynical',\n",
       " 'Dammit',\n",
       " 'Dancing with Myself',\n",
       " 'Darkside',\n",
       " \"Dead Man's Curve\",\n",
       " 'Degenerate',\n",
       " 'Depends',\n",
       " 'Dick Lips',\n",
       " 'Disaster',\n",
       " 'Does My Breath Smell?',\n",
       " 'Dogs Eating Dogs',\n",
       " \"Don't\",\n",
       " \"Don't Leave Me\",\n",
       " \"Don't Mean Anything\",\n",
       " \"Don't Tell Me It's Over\",\n",
       " 'Down',\n",
       " 'Dumpweed',\n",
       " 'Dysentery Gary',\n",
       " 'Easy Target',\n",
       " 'Edging',\n",
       " 'Emo',\n",
       " 'Enthused',\n",
       " 'Even If She Falls',\n",
       " 'Everytime I Look for You',\n",
       " 'The Fallen Interlude',\n",
       " 'Falling',\n",
       " 'The Family Next Door',\n",
       " 'Family Reunion',\n",
       " 'Feeling This',\n",
       " 'Fentoozler',\n",
       " 'Fighting the Gravity',\n",
       " 'First Date',\n",
       " 'The First Time',\n",
       " 'Freak Scene',\n",
       " 'Fuck a Dog',\n",
       " 'Generational Divide',\n",
       " 'Ghost on the Dance Floor',\n",
       " 'The Girl Next Door',\n",
       " 'Give Me One Good Reason',\n",
       " 'Go',\n",
       " 'Going Away to College',\n",
       " 'Good Old Days',\n",
       " 'Good Times',\n",
       " 'Happy Days',\n",
       " 'Happy Holidays, You Bastard',\n",
       " \"Heart's All Gone\",\n",
       " \"Heart's All Gone Interlude\",\n",
       " 'Heaven',\n",
       " \"Here's Your Letter\",\n",
       " \"Hey I'm Sorry\",\n",
       " 'Home Is Such a Lonely Place',\n",
       " 'Hungover You',\n",
       " 'I Miss You',\n",
       " 'I Really Wish I Hated You',\n",
       " \"I Won't Be Home for Christmas\",\n",
       " \"I'm Lost Without You\",\n",
       " \"I'm Sorry\",\n",
       " 'Josie',\n",
       " 'Just About Done',\n",
       " 'Kaleidoscope',\n",
       " 'Kings of the Weekend',\n",
       " 'Last Train Home',\n",
       " 'Left Alone',\n",
       " 'Lemmings',\n",
       " \"Life's So Boring\",\n",
       " 'The Longest Line',\n",
       " 'Long Lost Feeling',\n",
       " 'Los Angeles',\n",
       " 'Love Is Dangerous',\n",
       " \"Love's Not Pretty\",\n",
       " 'Lunch',\n",
       " \"M+M's\",\n",
       " 'Man Overboard',\n",
       " 'Marlboro Man',\n",
       " 'MH 4.18.2011',\n",
       " 'Misery',\n",
       " \"Mother's Day\",\n",
       " 'Mutt',\n",
       " 'My Pet Sally',\n",
       " 'Natives',\n",
       " 'Nipples of Fury',\n",
       " 'No Future',\n",
       " 'No Heart to Speak Of',\n",
       " 'Not Another Christmas Song',\n",
       " 'Not Now',\n",
       " 'Obvious',\n",
       " 'Online Songs',\n",
       " 'On Some Emo Shit',\n",
       " 'The Only Thing That Matters',\n",
       " 'Out of My Head',\n",
       " 'Parking Lot',\n",
       " 'The Party Song',\n",
       " 'Pathetic',\n",
       " 'Peggy Sue',\n",
       " 'Pin the Grenade',\n",
       " 'Please Take Me Home',\n",
       " 'Point of View',\n",
       " 'Pretty Little Girl',\n",
       " 'Quarantine',\n",
       " 'Rabbit Hole',\n",
       " 'Ransom',\n",
       " 'Reckless Abandon',\n",
       " 'Red Skies',\n",
       " 'Reebok Commercial',\n",
       " 'Remember to Forget Me',\n",
       " 'The Rock Show',\n",
       " 'Roller Coaster',\n",
       " 'Romeo and Rebecca',\n",
       " 'Run Away',\n",
       " 'San Diego',\n",
       " \"She's Out of Her Mind\",\n",
       " 'Shut Up',\n",
       " 'Snake Charmer',\n",
       " 'Sober',\n",
       " 'Sometimes',\n",
       " 'Stay Together for the Kids',\n",
       " 'Stockholm Syndrome',\n",
       " 'Story of a Lonely Guy',\n",
       " 'Strings',\n",
       " 'Teenage Satellites',\n",
       " 'This Is Home',\n",
       " 'Time',\n",
       " 'Time to Break Up',\n",
       " 'Toast and Bananas',\n",
       " 'Touchdown Boy',\n",
       " 'Transvestite',\n",
       " 'TV',\n",
       " 'Untitled',\n",
       " 'Up All Night',\n",
       " 'Violence',\n",
       " 'Voyeur',\n",
       " 'Voyeur',\n",
       " 'Waggy',\n",
       " 'Wasting Time',\n",
       " 'Wendy Clear',\n",
       " 'What Went Wrong',\n",
       " \"What's My Age Again?\",\n",
       " 'When I Was Young',\n",
       " 'When You Fucked Grandpa',\n",
       " 'Wildfire',\n",
       " 'Wishing Well',\n",
       " 'Wrecked Him',\n",
       " 'Zulu',\n",
       " 'Death Bed',\n",
       " \"It's All Fading to Black\",\n",
       " 'Let Me Down',\n",
       " \"P.S. I Hope You're Happy\",\n",
       " 'Scumbag',\n",
       " \"What's My Age Again?/A Milli\",\n",
       " 'Why Are We So Broken']"
      ]
     },
     "execution_count": 18,
     "metadata": {},
     "output_type": "execute_result"
    }
   ],
   "source": [
    "blink_only_titles"
   ]
  },
  {
   "cell_type": "markdown",
   "id": "edb5da05-52bf-4fac-8261-7ce70e9530f8",
   "metadata": {},
   "source": [
    "Tuesday 5 September - Input and suggest hot song"
   ]
  },
  {
   "cell_type": "code",
   "execution_count": 19,
   "id": "5d105173-f70b-4567-a5e4-25529956e5f3",
   "metadata": {},
   "outputs": [
    {
     "data": {
      "text/html": [
       "<div>\n",
       "<style scoped>\n",
       "    .dataframe tbody tr th:only-of-type {\n",
       "        vertical-align: middle;\n",
       "    }\n",
       "\n",
       "    .dataframe tbody tr th {\n",
       "        vertical-align: top;\n",
       "    }\n",
       "\n",
       "    .dataframe thead th {\n",
       "        text-align: right;\n",
       "    }\n",
       "</style>\n",
       "<table border=\"1\" class=\"dataframe\">\n",
       "  <thead>\n",
       "    <tr style=\"text-align: right;\">\n",
       "      <th></th>\n",
       "      <th>title</th>\n",
       "      <th>artist</th>\n",
       "    </tr>\n",
       "  </thead>\n",
       "  <tbody>\n",
       "    <tr>\n",
       "      <th>0</th>\n",
       "      <td>Margaritaville</td>\n",
       "      <td>Jimmy Buffett</td>\n",
       "    </tr>\n",
       "    <tr>\n",
       "      <th>1</th>\n",
       "      <td>Come Monday</td>\n",
       "      <td>Jimmy Buffett</td>\n",
       "    </tr>\n",
       "    <tr>\n",
       "      <th>2</th>\n",
       "      <td>Rich Men North of Richmond</td>\n",
       "      <td>Oliver Anthony Music</td>\n",
       "    </tr>\n",
       "    <tr>\n",
       "      <th>3</th>\n",
       "      <td>All Star</td>\n",
       "      <td>Smash Mouth</td>\n",
       "    </tr>\n",
       "    <tr>\n",
       "      <th>4</th>\n",
       "      <td>Cheeseburger In Paradise</td>\n",
       "      <td>Jimmy Buffett</td>\n",
       "    </tr>\n",
       "  </tbody>\n",
       "</table>\n",
       "</div>"
      ],
      "text/plain": [
       "                        title                artist\n",
       "0              Margaritaville         Jimmy Buffett\n",
       "1                 Come Monday         Jimmy Buffett\n",
       "2  Rich Men North of Richmond  Oliver Anthony Music\n",
       "3                    All Star           Smash Mouth\n",
       "4    Cheeseburger In Paradise         Jimmy Buffett"
      ]
     },
     "execution_count": 19,
     "metadata": {},
     "output_type": "execute_result"
    }
   ],
   "source": [
    "songs.head()"
   ]
  },
  {
   "cell_type": "code",
   "execution_count": null,
   "id": "1ae1fc5a-fd47-4d92-ba1b-216bebad7df3",
   "metadata": {},
   "outputs": [],
   "source": [
    "user_input = input(\"Enter a song title: \")\n",
    "\n",
    "if user_input in songs['title'].values:\n",
    "    suggested_titles = songs[songs['title'] != user_input]['title']\n",
    "    if not suggested_titles.empty:\n",
    "        print(f\"Why do not also listen to...: {suggested_titles.sample().values[0]}\")\n",
    "    else:\n",
    "        print(\"You did not insert anything\")\n",
    "else:\n",
    "    print(\"I do not know what to suggest\")"
   ]
  },
  {
   "cell_type": "code",
   "execution_count": null,
   "id": "fd341f63-68ab-42ed-950e-7d06e3528e2e",
   "metadata": {},
   "outputs": [],
   "source": []
  }
 ],
 "metadata": {
  "kernelspec": {
   "display_name": "Python 3 (ipykernel)",
   "language": "python",
   "name": "python3"
  },
  "language_info": {
   "codemirror_mode": {
    "name": "ipython",
    "version": 3
   },
   "file_extension": ".py",
   "mimetype": "text/x-python",
   "name": "python",
   "nbconvert_exporter": "python",
   "pygments_lexer": "ipython3",
   "version": "3.10.9"
  }
 },
 "nbformat": 4,
 "nbformat_minor": 5
}
