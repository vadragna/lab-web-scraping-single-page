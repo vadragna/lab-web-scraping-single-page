{
 "cells": [
  {
   "cell_type": "markdown",
   "id": "4402ab18-4d06-4ae5-aab0-05b16ba130ad",
   "metadata": {},
   "source": [
    "List all language names and number of related articles in the order they appear in wikipedia.org: url = 'https://www.wikipedia.org/'"
   ]
  },
  {
   "cell_type": "code",
   "execution_count": 1,
   "id": "4c6d4fd0-0ef3-443f-b518-39882eb33383",
   "metadata": {},
   "outputs": [],
   "source": [
    "from bs4 import BeautifulSoup\n",
    "import pandas as pd\n",
    "import re\n",
    "import requests"
   ]
  },
  {
   "cell_type": "code",
   "execution_count": 2,
   "id": "c8cd719d-2ab1-44c0-9939-45390e1786b2",
   "metadata": {},
   "outputs": [],
   "source": [
    "url = 'https://www.wikipedia.org/'\n",
    "page = requests.get(url)"
   ]
  },
  {
   "cell_type": "code",
   "execution_count": 3,
   "id": "8907c228-fc49-4b25-963e-609f14544a51",
   "metadata": {},
   "outputs": [],
   "source": [
    "soup = BeautifulSoup(page.content, 'html.parser')"
   ]
  },
  {
   "cell_type": "code",
   "execution_count": 57,
   "id": "e348e796-39fb-418c-ab94-dbc25ce15bb0",
   "metadata": {
    "scrolled": true,
    "tags": []
   },
   "outputs": [],
   "source": [
    "# soup"
   ]
  },
  {
   "cell_type": "code",
   "execution_count": 5,
   "id": "53a0d920-bba0-4ae5-a8c0-9fc90be66c9c",
   "metadata": {},
   "outputs": [],
   "source": [
    "#js-link-box-es > strong\n",
    "\n",
    "languages = soup.select('.central-featured-lang > a > strong')\n",
    "n_of_articles = soup.select('.central-featured-lang > a > small > bdi')"
   ]
  },
  {
   "cell_type": "code",
   "execution_count": 6,
   "id": "fcfb698f-6a2a-4691-9b02-5ddc19b2ebb3",
   "metadata": {},
   "outputs": [],
   "source": [
    "wiki_languages = []\n",
    "\n",
    "for l in languages:\n",
    "    wiki_languages.append(l.get_text())"
   ]
  },
  {
   "cell_type": "code",
   "execution_count": 7,
   "id": "214750c3-2c62-4b3c-93da-8687af0344c7",
   "metadata": {},
   "outputs": [
    {
     "data": {
      "text/plain": [
       "['English',\n",
       " '日本語',\n",
       " 'Español',\n",
       " 'Русский',\n",
       " 'Deutsch',\n",
       " 'Français',\n",
       " 'Italiano',\n",
       " '中文',\n",
       " 'Português',\n",
       " 'فارسی']"
      ]
     },
     "execution_count": 7,
     "metadata": {},
     "output_type": "execute_result"
    }
   ],
   "source": [
    "wiki_languages"
   ]
  },
  {
   "cell_type": "code",
   "execution_count": 8,
   "id": "5ed37e10-0889-426d-9017-e28d05bd6346",
   "metadata": {},
   "outputs": [
    {
     "data": {
      "text/plain": [
       "[<bdi dir=\"ltr\">6 701 000+</bdi>,\n",
       " <bdi dir=\"ltr\">1 384 000+</bdi>,\n",
       " <bdi dir=\"ltr\">1 886 000+</bdi>,\n",
       " <bdi dir=\"ltr\">1 933 000+</bdi>,\n",
       " <bdi dir=\"ltr\">2 828 000+</bdi>,\n",
       " <bdi dir=\"ltr\">2 546 000+</bdi>,\n",
       " <bdi dir=\"ltr\">1 823 000+</bdi>,\n",
       " <bdi dir=\"ltr\">1 373 000+</bdi>,\n",
       " <bdi dir=\"ltr\">1 107 000+</bdi>,\n",
       " <bdi dir=\"ltr\">971 000+</bdi>]"
      ]
     },
     "execution_count": 8,
     "metadata": {},
     "output_type": "execute_result"
    }
   ],
   "source": [
    "n_of_articles"
   ]
  },
  {
   "cell_type": "code",
   "execution_count": 9,
   "id": "8226d5cc-9d65-4cb1-85f9-7f9bf784508d",
   "metadata": {},
   "outputs": [],
   "source": [
    "n_of_articles_per_language = []\n",
    "\n",
    "for n in n_of_articles :\n",
    "    n2 = n.get_text()\n",
    "    clean_number = n2.replace('\\xa0', ' ').strip()\n",
    "    n_of_articles_per_language.append(clean_number)"
   ]
  },
  {
   "cell_type": "code",
   "execution_count": 10,
   "id": "723e96bc-e72e-4ca4-9777-b4488593b4d9",
   "metadata": {},
   "outputs": [
    {
     "data": {
      "text/plain": [
       "['6 701 000+',\n",
       " '1 384 000+',\n",
       " '1 886 000+',\n",
       " '1 933 000+',\n",
       " '2 828 000+',\n",
       " '2 546 000+',\n",
       " '1 823 000+',\n",
       " '1 373 000+',\n",
       " '1 107 000+',\n",
       " '971 000+']"
      ]
     },
     "execution_count": 10,
     "metadata": {},
     "output_type": "execute_result"
    }
   ],
   "source": [
    "n_of_articles_per_language"
   ]
  },
  {
   "cell_type": "code",
   "execution_count": 11,
   "id": "4747f63c-1e21-4633-a2a5-40f57346fd51",
   "metadata": {},
   "outputs": [],
   "source": [
    "len(wiki_languages)\n",
    "\n",
    "wiki_language_top_10 = wiki_languages[:10]"
   ]
  },
  {
   "cell_type": "code",
   "execution_count": 12,
   "id": "c822175e-f629-4041-90c3-8783567da5a5",
   "metadata": {},
   "outputs": [
    {
     "data": {
      "text/plain": [
       "10"
      ]
     },
     "execution_count": 12,
     "metadata": {},
     "output_type": "execute_result"
    }
   ],
   "source": [
    "len(n_of_articles_per_language)"
   ]
  },
  {
   "cell_type": "code",
   "execution_count": 13,
   "id": "dd27b5ef-28c8-48a3-93e0-c3c578262845",
   "metadata": {},
   "outputs": [],
   "source": [
    "language_articles = pd.DataFrame({\"language\":wiki_language_top_10,\n",
    "                       \"n_of_articles\":n_of_articles_per_language\n",
    "                      })"
   ]
  },
  {
   "cell_type": "code",
   "execution_count": 14,
   "id": "e6f00db6-541c-4a0b-b38e-7b8d01d9858c",
   "metadata": {},
   "outputs": [
    {
     "data": {
      "text/html": [
       "<div>\n",
       "<style scoped>\n",
       "    .dataframe tbody tr th:only-of-type {\n",
       "        vertical-align: middle;\n",
       "    }\n",
       "\n",
       "    .dataframe tbody tr th {\n",
       "        vertical-align: top;\n",
       "    }\n",
       "\n",
       "    .dataframe thead th {\n",
       "        text-align: right;\n",
       "    }\n",
       "</style>\n",
       "<table border=\"1\" class=\"dataframe\">\n",
       "  <thead>\n",
       "    <tr style=\"text-align: right;\">\n",
       "      <th></th>\n",
       "      <th>language</th>\n",
       "      <th>n_of_articles</th>\n",
       "    </tr>\n",
       "  </thead>\n",
       "  <tbody>\n",
       "    <tr>\n",
       "      <th>0</th>\n",
       "      <td>English</td>\n",
       "      <td>6 701 000+</td>\n",
       "    </tr>\n",
       "    <tr>\n",
       "      <th>1</th>\n",
       "      <td>日本語</td>\n",
       "      <td>1 384 000+</td>\n",
       "    </tr>\n",
       "    <tr>\n",
       "      <th>2</th>\n",
       "      <td>Español</td>\n",
       "      <td>1 886 000+</td>\n",
       "    </tr>\n",
       "    <tr>\n",
       "      <th>3</th>\n",
       "      <td>Русский</td>\n",
       "      <td>1 933 000+</td>\n",
       "    </tr>\n",
       "    <tr>\n",
       "      <th>4</th>\n",
       "      <td>Deutsch</td>\n",
       "      <td>2 828 000+</td>\n",
       "    </tr>\n",
       "  </tbody>\n",
       "</table>\n",
       "</div>"
      ],
      "text/plain": [
       "  language n_of_articles\n",
       "0  English    6 701 000+\n",
       "1      日本語    1 384 000+\n",
       "2  Español    1 886 000+\n",
       "3  Русский    1 933 000+\n",
       "4  Deutsch    2 828 000+"
      ]
     },
     "execution_count": 14,
     "metadata": {},
     "output_type": "execute_result"
    }
   ],
   "source": [
    "language_articles.head()"
   ]
  },
  {
   "cell_type": "markdown",
   "id": "33bb3009-5393-4b7a-bee4-11225cd9402a",
   "metadata": {},
   "source": [
    "Display the top 10 languages by number of native speakers stored in a pandas dataframe: url = 'https://en.wikipedia.org/wiki/List_of_languages_by_number_of_native_speakers'"
   ]
  },
  {
   "cell_type": "code",
   "execution_count": 15,
   "id": "11e70edc-36d5-421c-90ea-dee0571547e0",
   "metadata": {},
   "outputs": [],
   "source": [
    "url2 = 'https://en.wikipedia.org/wiki/List_of_languages_by_number_of_native_speakers'\n",
    "page2 = requests.get(url2)"
   ]
  },
  {
   "cell_type": "code",
   "execution_count": 16,
   "id": "0d15f47c-3758-4645-82cb-ef57c5c421f6",
   "metadata": {},
   "outputs": [],
   "source": [
    "soup2 = BeautifulSoup(page2.content, 'html.parser')"
   ]
  },
  {
   "cell_type": "code",
   "execution_count": 58,
   "id": "f1a91df2-c64a-4514-9fc4-3446f25d91a7",
   "metadata": {
    "scrolled": true,
    "tags": []
   },
   "outputs": [],
   "source": [
    "# soup2"
   ]
  },
  {
   "cell_type": "code",
   "execution_count": 18,
   "id": "9e361589-227d-4576-acd1-aea91d23affd",
   "metadata": {},
   "outputs": [],
   "source": [
    "table_element = soup2.find('table')"
   ]
  },
  {
   "cell_type": "code",
   "execution_count": 59,
   "id": "d23f1c9a-7118-4d0c-8202-fb17b7afcc16",
   "metadata": {
    "scrolled": true,
    "tags": []
   },
   "outputs": [],
   "source": [
    "# table_element"
   ]
  },
  {
   "cell_type": "code",
   "execution_count": 20,
   "id": "83acb9f7-5e2f-42ec-8a2d-9a401adacdb0",
   "metadata": {},
   "outputs": [],
   "source": [
    "title_elements = table_element.find_all('td')"
   ]
  },
  {
   "cell_type": "code",
   "execution_count": 60,
   "id": "a9b82e1c-f64a-402f-ae64-94f2c7602b1c",
   "metadata": {
    "scrolled": true,
    "tags": []
   },
   "outputs": [],
   "source": [
    "# print(title_elements)"
   ]
  },
  {
   "cell_type": "code",
   "execution_count": 61,
   "id": "6314f3b5-0a62-4780-b7e0-5016866ef6ec",
   "metadata": {
    "scrolled": true,
    "tags": []
   },
   "outputs": [],
   "source": [
    "# for title in title_elements:\n",
    "#     print(title)"
   ]
  },
  {
   "cell_type": "code",
   "execution_count": 23,
   "id": "de4e6a96-9c8d-4176-8749-ca5ae8be1c9c",
   "metadata": {},
   "outputs": [],
   "source": [
    "language_elements = []\n",
    "\n",
    "# Iterate through the ResultSet and apply find_all() on each element\n",
    "for element in title_elements:\n",
    "    # Apply find_all() on the current element to find <a> elements\n",
    "    a_elements = element.find_all('a')\n",
    "    \n",
    "    # Append the <a> elements to the list\n",
    "    language_elements.extend(a_elements)"
   ]
  },
  {
   "cell_type": "code",
   "execution_count": 36,
   "id": "89cbfacf-c534-4382-b13c-56773ce819d2",
   "metadata": {},
   "outputs": [
    {
     "name": "stdout",
     "output_type": "stream",
     "text": [
      "['Mandarin Chinese(incl. Standard Chinese, but excl. other varieties)', 'Spanish', 'English', 'Hindi(excl. Urdu, and other languages)', 'Portuguese', 'Bengali', 'Russian', 'Japanese', 'Yue Chinese(incl. Cantonese)', 'Vietnamese', 'Turkish', 'Wu Chinese(incl. Shanghainese)', 'Marathi', 'Telugu', 'Korean', 'French', 'Tamil', 'Egyptian Spoken Arabic(excl. Saʽidi Arabic)', 'Standard German', 'Urdu(excl. Hindi)', 'Javanese', 'Western Punjabi(excl. Eastern Punjabi)', 'Italian', 'Gujarati', 'Iranian Persian(excl. Dari and Tajik)', 'Bhojpuri', 'Hausa']\n"
     ]
    }
   ],
   "source": [
    "languages = []\n",
    "selected_td_elements = title_elements[::4]\n",
    "for element in selected_td_elements:\n",
    "    language_name = element.get_text()\n",
    "    languages.append(language_name.strip())\n",
    "print(languages)"
   ]
  },
  {
   "cell_type": "code",
   "execution_count": 37,
   "id": "388d0e3d-bd01-4c20-8afd-739cd2bc26c9",
   "metadata": {},
   "outputs": [
    {
     "name": "stdout",
     "output_type": "stream",
     "text": [
      "939\n",
      "\n",
      "485\n",
      "\n",
      "380\n",
      "\n",
      "345\n",
      "\n",
      "236\n",
      "\n",
      "234\n",
      "\n",
      "147\n",
      "\n",
      "123\n",
      "\n",
      "86.1\n",
      "\n",
      "85.0\n",
      "\n",
      "84.0\n",
      "\n",
      "83.4\n",
      "\n",
      "83.2\n",
      "\n",
      "83.0\n",
      "\n",
      "81.7\n",
      "\n",
      "80.8\n",
      "\n",
      "78.6\n",
      "\n",
      "77.4\n",
      "\n",
      "75.3\n",
      "\n",
      "70.6\n",
      "\n",
      "68.3\n",
      "\n",
      "66.7\n",
      "\n",
      "64.6\n",
      "\n",
      "57.1\n",
      "\n",
      "57.2\n",
      "\n",
      "52.3\n",
      "\n",
      "51.7\n",
      "\n"
     ]
    }
   ],
   "source": [
    "n_of_speakers = []\n",
    "selected_td_elements = title_elements[1::4]\n",
    "\n",
    "for td in selected_td_elements:\n",
    "    n_of_speakers.append(td.get_text().strip())\n",
    "    print(td.get_text())"
   ]
  },
  {
   "cell_type": "code",
   "execution_count": 38,
   "id": "3103aad2-e941-4795-8b4d-f5b8b0cac6e3",
   "metadata": {},
   "outputs": [
    {
     "data": {
      "text/plain": [
       "['939',\n",
       " '485',\n",
       " '380',\n",
       " '345',\n",
       " '236',\n",
       " '234',\n",
       " '147',\n",
       " '123',\n",
       " '86.1',\n",
       " '85.0',\n",
       " '84.0',\n",
       " '83.4',\n",
       " '83.2',\n",
       " '83.0',\n",
       " '81.7',\n",
       " '80.8',\n",
       " '78.6',\n",
       " '77.4',\n",
       " '75.3',\n",
       " '70.6',\n",
       " '68.3',\n",
       " '66.7',\n",
       " '64.6',\n",
       " '57.1',\n",
       " '57.2',\n",
       " '52.3',\n",
       " '51.7']"
      ]
     },
     "execution_count": 38,
     "metadata": {},
     "output_type": "execute_result"
    }
   ],
   "source": [
    "n_of_speakers"
   ]
  },
  {
   "cell_type": "code",
   "execution_count": 39,
   "id": "7b1d23ef-ac64-432a-8d2e-9b3eabe8bfa6",
   "metadata": {},
   "outputs": [
    {
     "data": {
      "text/plain": [
       "27"
      ]
     },
     "execution_count": 39,
     "metadata": {},
     "output_type": "execute_result"
    }
   ],
   "source": [
    "len(n_of_speakers)"
   ]
  },
  {
   "cell_type": "code",
   "execution_count": 40,
   "id": "9e8e4017-7da1-429d-830f-2e573ef437f0",
   "metadata": {},
   "outputs": [
    {
     "data": {
      "text/plain": [
       "27"
      ]
     },
     "execution_count": 40,
     "metadata": {},
     "output_type": "execute_result"
    }
   ],
   "source": [
    "len(languages)"
   ]
  },
  {
   "cell_type": "code",
   "execution_count": 41,
   "id": "ab640aa6-249f-4cc3-9d5e-03c10dae89e6",
   "metadata": {},
   "outputs": [
    {
     "data": {
      "text/plain": [
       "['Mandarin Chinese(incl. Standard Chinese, but excl. other varieties)',\n",
       " 'Spanish',\n",
       " 'English',\n",
       " 'Hindi(excl. Urdu, and other languages)',\n",
       " 'Portuguese',\n",
       " 'Bengali',\n",
       " 'Russian',\n",
       " 'Japanese',\n",
       " 'Yue Chinese(incl. Cantonese)',\n",
       " 'Vietnamese',\n",
       " 'Turkish',\n",
       " 'Wu Chinese(incl. Shanghainese)',\n",
       " 'Marathi',\n",
       " 'Telugu',\n",
       " 'Korean',\n",
       " 'French',\n",
       " 'Tamil',\n",
       " 'Egyptian Spoken Arabic(excl. Saʽidi Arabic)',\n",
       " 'Standard German',\n",
       " 'Urdu(excl. Hindi)',\n",
       " 'Javanese',\n",
       " 'Western Punjabi(excl. Eastern Punjabi)',\n",
       " 'Italian',\n",
       " 'Gujarati',\n",
       " 'Iranian Persian(excl. Dari and Tajik)',\n",
       " 'Bhojpuri',\n",
       " 'Hausa']"
      ]
     },
     "execution_count": 41,
     "metadata": {},
     "output_type": "execute_result"
    }
   ],
   "source": [
    "languages"
   ]
  },
  {
   "cell_type": "code",
   "execution_count": 42,
   "id": "b33a8c17-3b57-4fd2-8c92-ba8213aa49a7",
   "metadata": {},
   "outputs": [],
   "source": [
    "languages_and_speakers = pd.DataFrame({\"language\":languages[:27],\n",
    "                          \"n_of_speakers\":n_of_speakers[:27]})"
   ]
  },
  {
   "cell_type": "code",
   "execution_count": 43,
   "id": "dc40a919-790a-43af-bbf5-d4e4e226c3bb",
   "metadata": {},
   "outputs": [
    {
     "data": {
      "text/html": [
       "<div>\n",
       "<style scoped>\n",
       "    .dataframe tbody tr th:only-of-type {\n",
       "        vertical-align: middle;\n",
       "    }\n",
       "\n",
       "    .dataframe tbody tr th {\n",
       "        vertical-align: top;\n",
       "    }\n",
       "\n",
       "    .dataframe thead th {\n",
       "        text-align: right;\n",
       "    }\n",
       "</style>\n",
       "<table border=\"1\" class=\"dataframe\">\n",
       "  <thead>\n",
       "    <tr style=\"text-align: right;\">\n",
       "      <th></th>\n",
       "      <th>language</th>\n",
       "      <th>n_of_speakers</th>\n",
       "    </tr>\n",
       "  </thead>\n",
       "  <tbody>\n",
       "    <tr>\n",
       "      <th>0</th>\n",
       "      <td>Mandarin Chinese(incl. Standard Chinese, but e...</td>\n",
       "      <td>939</td>\n",
       "    </tr>\n",
       "    <tr>\n",
       "      <th>1</th>\n",
       "      <td>Spanish</td>\n",
       "      <td>485</td>\n",
       "    </tr>\n",
       "    <tr>\n",
       "      <th>2</th>\n",
       "      <td>English</td>\n",
       "      <td>380</td>\n",
       "    </tr>\n",
       "    <tr>\n",
       "      <th>3</th>\n",
       "      <td>Hindi(excl. Urdu, and other languages)</td>\n",
       "      <td>345</td>\n",
       "    </tr>\n",
       "    <tr>\n",
       "      <th>4</th>\n",
       "      <td>Portuguese</td>\n",
       "      <td>236</td>\n",
       "    </tr>\n",
       "  </tbody>\n",
       "</table>\n",
       "</div>"
      ],
      "text/plain": [
       "                                            language n_of_speakers\n",
       "0  Mandarin Chinese(incl. Standard Chinese, but e...           939\n",
       "1                                            Spanish           485\n",
       "2                                            English           380\n",
       "3             Hindi(excl. Urdu, and other languages)           345\n",
       "4                                         Portuguese           236"
      ]
     },
     "execution_count": 43,
     "metadata": {},
     "output_type": "execute_result"
    }
   ],
   "source": [
    "languages_and_speakers.head()"
   ]
  },
  {
   "cell_type": "markdown",
   "id": "40768fab-a998-4fb1-9e52-d4618a16646d",
   "metadata": {},
   "source": [
    "Create a Python list with the top ten FBI's Most Wanted names: url = 'https://www.fbi.gov/wanted/topten'"
   ]
  },
  {
   "cell_type": "code",
   "execution_count": 44,
   "id": "13e466ea-94e6-44bf-ad9a-c1f879fca056",
   "metadata": {},
   "outputs": [],
   "source": [
    "url3 = 'https://www.fbi.gov/wanted/topten'\n",
    "page3 = requests.get(url3)"
   ]
  },
  {
   "cell_type": "code",
   "execution_count": 45,
   "id": "0297b1d9-85bf-4797-be6f-148696d1fdbb",
   "metadata": {},
   "outputs": [],
   "source": [
    "soup3 = BeautifulSoup(page3.content, 'html.parser')"
   ]
  },
  {
   "cell_type": "code",
   "execution_count": 47,
   "id": "5246cc1e-fa92-4084-b76f-e56f22f28d8d",
   "metadata": {},
   "outputs": [],
   "source": [
    "# soup3"
   ]
  },
  {
   "cell_type": "code",
   "execution_count": 65,
   "id": "216502a7-d5c9-4389-9983-c03bb953b813",
   "metadata": {},
   "outputs": [
    {
     "name": "stdout",
     "output_type": "stream",
     "text": [
      "['ALEJANDRO ROSALES CASTILLO', 'RUJA IGNATOVA', 'DONALD EUGENE FIELDS II', 'ALEXIS FLORES', 'ARNOLDO JIMENEZ', 'OMAR ALEXANDER CARDENAS', 'YULAN ADONAY ARCHAGA CARIAS', 'BHADRESHKUMAR CHETANBHAI PATEL', 'WILVER VILLEGAS-PALOMINO']\n"
     ]
    }
   ],
   "source": [
    "img_elements = soup3.find_all('img')\n",
    "top_10_wanted_people = []\n",
    "\n",
    "for img in img_elements:\n",
    "    alt_text = img.get('alt')\n",
    "    if alt_text:\n",
    "        top_10_wanted_people.append(alt_text)\n",
    "        \n",
    "top_10_wanted_people_final = top_10_wanted_people[1:10]\n",
    "\n",
    "print(top_10_wanted_people_final)"
   ]
  }
 ],
 "metadata": {
  "kernelspec": {
   "display_name": "Python 3 (ipykernel)",
   "language": "python",
   "name": "python3"
  },
  "language_info": {
   "codemirror_mode": {
    "name": "ipython",
    "version": 3
   },
   "file_extension": ".py",
   "mimetype": "text/x-python",
   "name": "python",
   "nbconvert_exporter": "python",
   "pygments_lexer": "ipython3",
   "version": "3.10.9"
  }
 },
 "nbformat": 4,
 "nbformat_minor": 5
}
